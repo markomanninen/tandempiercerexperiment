{
 "cells": [
  {
   "cell_type": "code",
   "execution_count": 1,
   "metadata": {},
   "outputs": [
    {
     "name": "stdout",
     "output_type": "stream",
     "text": [
      "Populating the interactive namespace from numpy and matplotlib\n",
      "Current directory: C:\\Users\\phtep\\Documents\\TandemPiercerExperiment\\report_template\n"
     ]
    }
   ],
   "source": [
    "%pylab inline\n",
    "\n",
    "import matplotlib.pyplot as plt\n",
    "import matplotlib.ticker as ticker\n",
    "\n",
    "from datetime import datetime\n",
    "import pandas as pd\n",
    "import os, glob\n",
    "\n",
    "pd.options.display.float_format = '{:,.3f}'.format\n",
    "\n",
    "print(\"Current directory: %s\" % os.getcwd())"
   ]
  },
  {
   "cell_type": "code",
   "execution_count": 2,
   "metadata": {},
   "outputs": [],
   "source": [
    "class Stats():\n",
    "    \n",
    "    def __init__(self, headers = None):\n",
    "        \n",
    "        self.experiment_directory = \"../experiments/*\"\n",
    "        self.statistics_filename = \"statistics.csv\"\n",
    "        self.get_experiment_stat_files()\n",
    "        \n",
    "        if headers is None:\n",
    "            self.headers = (\n",
    "                \"Time\",\n",
    "                \"Elapsed\",\n",
    "                \"A\",\n",
    "                \"B\",\n",
    "                \"TotA\",\n",
    "                \"TotB\",\n",
    "                \"RateA\",\n",
    "                \"RateB\",\n",
    "                \"Cnc\",\n",
    "                \"TotCnc\",\n",
    "                \"ElapsedCncRate\",\n",
    "                \"SampleCncRate\",\n",
    "                \"TimeDifference\",\n",
    "                \"APulseHeight\",\n",
    "                \"BPulseHeight\",\n",
    "                \"SampleCncRate_\",\n",
    "                \"RateCount\",\n",
    "                \"SampleSize\",\n",
    "                \"Chn\"\n",
    "            )\n",
    "        else:\n",
    "            self.headers = headers\n",
    "\n",
    "    \n",
    "    def get_experiment_stat_files(self):\n",
    "        for experiment_directory in glob.glob(self.experiment_directory):\n",
    "            statistics_file = os.path.join(experiment_directory, self.statistics_filename)\n",
    "            if os.path.isfile(statistics_file):\n",
    "                yield statistics_file\n",
    "    \n",
    "    def print_experiment_stat_files(self):\n",
    "        return list(map(print, self.get_experiment_stat_files()))\n",
    "    \n",
    "    def read_stats_dataframe(self, csv_filename):\n",
    "        self.csv_filename = csv_filename\n",
    "        df = pd.read_csv(self.csv_filename, sep = \";\", names = self.headers)\n",
    "        self.desc = df.describe()\n",
    "        df['Time'] = pd.to_datetime(df['Time'], unit = 's')\n",
    "        self.last_index = len(df) - 1\n",
    "        self.stats = df\n",
    "        return self.stats\n",
    "    \n",
    "    def get_desc_value(self, col, row):\n",
    "        return self.desc[col][row]\n",
    "    \n",
    "    def sample_size(self):\n",
    "        return self.get_desc_value(\"SampleSize\", \"max\")\n",
    "    \n",
    "    def max_pulse_height_a(self):\n",
    "        return self.get_desc_value(\"APulseHeight\", \"max\")\n",
    "    def min_pulse_height_a(self):\n",
    "        return self.get_desc_value(\"APulseHeight\", \"min\")\n",
    "    def std_pulse_height_a(self):\n",
    "        return self.get_desc_value(\"APulseHeight\", \"std\")\n",
    "    def mean_pulse_height_a(self):\n",
    "        return self.get_desc_value(\"APulseHeight\", \"mean\")\n",
    "    \n",
    "    def max_pulse_height_b(self):\n",
    "        return self.get_desc_value(\"BPulseHeight\", \"max\")\n",
    "    def min_pulse_height_b(self):\n",
    "        return self.get_desc_value(\"BPulseHeight\", \"min\")\n",
    "    def std_pulse_height_b(self):\n",
    "        return self.get_desc_value(\"BPulseHeight\", \"std\")\n",
    "    def mean_pulse_height_b(self):\n",
    "        return self.get_desc_value(\"BPulseHeight\", \"mean\")\n",
    "\n",
    "    def pulse_heights_a(self, coincidences = True):\n",
    "        return self.stats[self.stats[\"Cnc\"] == 1][\"APulseHeight\"].to_numpy() if coincidences else self.stats[\"APulseHeight\"].to_numpy()\n",
    "    \n",
    "    def pulse_heights_b(self, coincidences = True):\n",
    "        return self.stats[self.stats[\"Cnc\"] == 1][\"BPulseHeight\"].to_numpy() if coincidences else self.stats[\"BPulseHeight\"].to_numpy()\n",
    "    \n",
    "    def time_differences(self, coincidences = True):\n",
    "        return self.stats[self.stats[\"Cnc\"] == 1][\"TimeDifference\"].to_numpy() if coincidences else self.stats[\"TimeDifference\"].to_numpy()\n",
    "    \n",
    "    def rows_count(self):\n",
    "        return self.last_index + 1\n",
    "    \n",
    "    def rate_a(self):\n",
    "        return self.get_desc_value(\"RateA\", \"max\")\n",
    "    \n",
    "    def rate_b(self):\n",
    "        return self.get_desc_value(\"RateB\", \"max\")\n",
    "    \n",
    "    def total_count_a(self):\n",
    "        return int(self.get_desc_value(\"TotA\", \"max\"))\n",
    "    \n",
    "    def total_count_b(self):\n",
    "        return int(self.get_desc_value(\"TotB\", \"max\"))\n",
    "    \n",
    "    def total_coincidences(self):\n",
    "        return int(self.get_desc_value(\"TotCnc\", \"max\"))\n",
    "    \n",
    "    def single_coincidences(self):\n",
    "        return len(self.stats[self.stats[\"Cnc\"] == 1])\n",
    "    \n",
    "    def time_elapsed(self):\n",
    "        return self.get_desc_value(\"Elapsed\", \"max\")\n",
    "    \n",
    "    def start_time(self):\n",
    "        return self.stats[\"Time\"][0]\n",
    "    \n",
    "    def end_time(self):\n",
    "        return self.stats[\"Time\"][self.last_index]\n",
    "    \n",
    "    def coincidence_elapsed_rate(self):\n",
    "        return self.get_desc_value(\"ElapsedCncRate\", \"max\")\n",
    "    \n",
    "    def coincidence_sample_rate(self):\n",
    "        return self.get_desc_value(\"SampleCncRate\", \"max\")\n",
    "    \n",
    "    def info(self):\n",
    "        return self.stats.info()\n",
    "    \n",
    "    def plot(self, cols, *args, **kwargs):\n",
    "        self.stats[cols].plot(*args, **kwargs)\n",
    "\n",
    "    def scatter(self, *args, **kwargs):\n",
    "        self.stats[self.stats[\"Cnc\"] == 1].plot(\n",
    "            kind = \"scatter\", \n",
    "            x = \"APulseHeight\",\n",
    "            y = \"BPulseHeight\", \n",
    "            c = \"Chn\", \n",
    "            colormap = \"bwr\",\n",
    "            *args, **kwargs\n",
    "        )\n",
    "\n",
    "    def time_difference_histogram(self, *args, **kwargs):\n",
    "        self.histogram(self.stats[self.stats[\"Cnc\"] == 1][\"TimeDifference\"], kind = \"hist\", bins = 128, *args, **kwargs)\n",
    "    \n",
    "    def histogram(self, df, *args, **kwargs):\n",
    "        df.plot(*args, **kwargs)\n",
    "    \n",
    "    def spectrum_histogram_a(self, coincidences = True, *args, **kwargs):\n",
    "        df = self.stats[self.stats[\"Cnc\"] == 1] if coincidences else self.stats\n",
    "        self.histogram(df[\"APulseHeight\"], kind=\"hist\", bins = 128, *args, **kwargs)\n",
    "    \n",
    "    def spectrum_histogram_b(self, coincidences = True, *args, **kwargs):\n",
    "        df = self.stats[self.stats[\"Cnc\"] == 1] if coincidences else self.stats\n",
    "        self.histogram(df[\"BPulseHeight\"], kind = \"hist\", bins = 128, *args, **kwargs)\n",
    "    \n",
    "    def plot_channel_counts(self):\n",
    "        fig, ax = plt.subplots()\n",
    "        for axis in [ax.xaxis, ax.yaxis]:\n",
    "            axis.set_major_locator(ticker.MaxNLocator(integer=True))\n",
    "        self.plot([\"A\", \"B\"], kind = \"line\", figsize = (12,4), ax = ax)\n",
    "    \n",
    "    def plot_channel_totals_and_rates(self):\n",
    "        fig, axes = plt.subplots(nrows=2, ncols=1)\n",
    "        self.plot([\"TotA\", \"TotB\"], figsize = (12,6), ax = axes[0])\n",
    "        self.plot([\"RateA\", \"RateB\"], figsize = (12,6), ax = axes[1])\n",
    "        \n",
    "    def plot_coincidences_and_sample_size(self):\n",
    "        fig, axes = plt.subplots(nrows = 1, ncols = 3)\n",
    "        self.plot([\"Cnc\", \"TotCnc\"], figsize = (18, 4), ax = axes[0])\n",
    "        self.plot([\"SampleCncRate\", \"ElapsedCncRate\"], figsize = (18, 4), ax = axes[1])\n",
    "        self.plot([\"SampleSize\", \"Chn\"], figsize = (18, 4), ax = axes[2])\n",
    "    \n",
    "    def plot_time_histogram_and_scatter(self):\n",
    "        fig, axes = plt.subplots(nrows = 1, ncols = 2)\n",
    "        for axis in [axes[0].xaxis, axes[0].yaxis]:\n",
    "            axis.set_major_locator(ticker.MaxNLocator(integer = True))\n",
    "        self.time_difference_histogram(figsize = (12, 4), ax = axes[0])\n",
    "        self.scatter(figsize = (12, 4), ax = axes[1])\n",
    "        \n",
    "    def plot_spectra(self):\n",
    "        fig, axes = plt.subplots(nrows = 1, ncols = 2)\n",
    "        for ax in axes:\n",
    "            for axis in [ax.xaxis, ax.yaxis]:\n",
    "                axis.set_major_locator(ticker.MaxNLocator(integer = True))\n",
    "        self.spectrum_histogram_a(figsize = (12, 4), ax = axes[0], color = \"red\");\n",
    "        self.spectrum_histogram_b(figsize = (12, 4), ax = axes[1]);\n",
    "    "
   ]
  },
  {
   "cell_type": "code",
   "execution_count": 3,
   "metadata": {},
   "outputs": [
    {
     "name": "stdout",
     "output_type": "stream",
     "text": [
      "../experiments\\default_2022_2_10_21_15\\statistics.csv\n",
      "../experiments\\default_2022_2_10_21_19\\statistics.csv\n",
      "../experiments\\default_2022_2_10_21_22\\statistics.csv\n",
      "../experiments\\default_2022_2_10_21_34\\statistics.csv\n",
      "../experiments\\default_2022_2_10_21_7\\statistics.csv\n",
      "../experiments\\default_2022_2_10_21_8\\statistics.csv\n"
     ]
    }
   ],
   "source": [
    "st = Stats()\n",
    "st.print_experiment_stat_files();"
   ]
  },
  {
   "cell_type": "code",
   "execution_count": 4,
   "metadata": {},
   "outputs": [
    {
     "data": {
      "text/html": [
       "<div>\n",
       "<style scoped>\n",
       "    .dataframe tbody tr th:only-of-type {\n",
       "        vertical-align: middle;\n",
       "    }\n",
       "\n",
       "    .dataframe tbody tr th {\n",
       "        vertical-align: top;\n",
       "    }\n",
       "\n",
       "    .dataframe thead th {\n",
       "        text-align: right;\n",
       "    }\n",
       "</style>\n",
       "<table border=\"1\" class=\"dataframe\">\n",
       "  <thead>\n",
       "    <tr style=\"text-align: right;\">\n",
       "      <th></th>\n",
       "      <th>Elapsed</th>\n",
       "      <th>A</th>\n",
       "      <th>B</th>\n",
       "      <th>TotA</th>\n",
       "      <th>TotB</th>\n",
       "      <th>RateA</th>\n",
       "      <th>RateB</th>\n",
       "      <th>Cnc</th>\n",
       "      <th>TotCnc</th>\n",
       "      <th>ElapsedCncRate</th>\n",
       "      <th>SampleCncRate</th>\n",
       "      <th>TimeDifference</th>\n",
       "      <th>APulseHeight</th>\n",
       "      <th>BPulseHeight</th>\n",
       "      <th>SampleCncRate_</th>\n",
       "      <th>RateCount</th>\n",
       "      <th>SampleSize</th>\n",
       "      <th>Chn</th>\n",
       "    </tr>\n",
       "  </thead>\n",
       "  <tbody>\n",
       "    <tr>\n",
       "      <th>count</th>\n",
       "      <td>6,394.000</td>\n",
       "      <td>6,394.000</td>\n",
       "      <td>6,394.000</td>\n",
       "      <td>6,394.000</td>\n",
       "      <td>6,394.000</td>\n",
       "      <td>6,394.000</td>\n",
       "      <td>6,394.000</td>\n",
       "      <td>6,394.000</td>\n",
       "      <td>6,394.000</td>\n",
       "      <td>6,394.000</td>\n",
       "      <td>6,394.000</td>\n",
       "      <td>6,394.000</td>\n",
       "      <td>6,394.000</td>\n",
       "      <td>6,394.000</td>\n",
       "      <td>6,394.000</td>\n",
       "      <td>6,394.000</td>\n",
       "      <td>6,394.000</td>\n",
       "      <td>6,394.000</td>\n",
       "    </tr>\n",
       "    <tr>\n",
       "      <th>mean</th>\n",
       "      <td>99.284</td>\n",
       "      <td>0.051</td>\n",
       "      <td>0.046</td>\n",
       "      <td>79.171</td>\n",
       "      <td>81.587</td>\n",
       "      <td>8.593</td>\n",
       "      <td>9.100</td>\n",
       "      <td>0.002</td>\n",
       "      <td>4.790</td>\n",
       "      <td>0.036</td>\n",
       "      <td>0.386</td>\n",
       "      <td>1.221</td>\n",
       "      <td>5.780</td>\n",
       "      <td>9.469</td>\n",
       "      <td>0.386</td>\n",
       "      <td>1,599.000</td>\n",
       "      <td>9.364</td>\n",
       "      <td>0.500</td>\n",
       "    </tr>\n",
       "    <tr>\n",
       "      <th>std</th>\n",
       "      <td>57.303</td>\n",
       "      <td>0.227</td>\n",
       "      <td>0.218</td>\n",
       "      <td>42.487</td>\n",
       "      <td>42.749</td>\n",
       "      <td>1.183</td>\n",
       "      <td>1.142</td>\n",
       "      <td>0.050</td>\n",
       "      <td>3.999</td>\n",
       "      <td>0.023</td>\n",
       "      <td>0.240</td>\n",
       "      <td>91.636</td>\n",
       "      <td>152.624</td>\n",
       "      <td>295.767</td>\n",
       "      <td>0.240</td>\n",
       "      <td>922.967</td>\n",
       "      <td>5.405</td>\n",
       "      <td>0.500</td>\n",
       "    </tr>\n",
       "    <tr>\n",
       "      <th>min</th>\n",
       "      <td>0.047</td>\n",
       "      <td>0.000</td>\n",
       "      <td>0.000</td>\n",
       "      <td>0.000</td>\n",
       "      <td>0.000</td>\n",
       "      <td>0.000</td>\n",
       "      <td>0.000</td>\n",
       "      <td>0.000</td>\n",
       "      <td>0.000</td>\n",
       "      <td>0.000</td>\n",
       "      <td>0.000</td>\n",
       "      <td>-4,395.000</td>\n",
       "      <td>0.000</td>\n",
       "      <td>0.000</td>\n",
       "      <td>0.000</td>\n",
       "      <td>1.000</td>\n",
       "      <td>0.006</td>\n",
       "      <td>0.000</td>\n",
       "    </tr>\n",
       "    <tr>\n",
       "      <th>25%</th>\n",
       "      <td>49.684</td>\n",
       "      <td>0.000</td>\n",
       "      <td>0.000</td>\n",
       "      <td>42.000</td>\n",
       "      <td>48.000</td>\n",
       "      <td>8.107</td>\n",
       "      <td>8.396</td>\n",
       "      <td>0.000</td>\n",
       "      <td>1.000</td>\n",
       "      <td>0.020</td>\n",
       "      <td>0.212</td>\n",
       "      <td>0.000</td>\n",
       "      <td>0.000</td>\n",
       "      <td>0.000</td>\n",
       "      <td>0.212</td>\n",
       "      <td>800.000</td>\n",
       "      <td>4.685</td>\n",
       "      <td>0.000</td>\n",
       "    </tr>\n",
       "    <tr>\n",
       "      <th>50%</th>\n",
       "      <td>99.298</td>\n",
       "      <td>0.000</td>\n",
       "      <td>0.000</td>\n",
       "      <td>84.000</td>\n",
       "      <td>83.000</td>\n",
       "      <td>8.675</td>\n",
       "      <td>8.954</td>\n",
       "      <td>0.000</td>\n",
       "      <td>3.000</td>\n",
       "      <td>0.033</td>\n",
       "      <td>0.353</td>\n",
       "      <td>0.000</td>\n",
       "      <td>0.000</td>\n",
       "      <td>0.000</td>\n",
       "      <td>0.353</td>\n",
       "      <td>1,599.000</td>\n",
       "      <td>9.364</td>\n",
       "      <td>0.500</td>\n",
       "    </tr>\n",
       "    <tr>\n",
       "      <th>75%</th>\n",
       "      <td>148.883</td>\n",
       "      <td>0.000</td>\n",
       "      <td>0.000</td>\n",
       "      <td>113.000</td>\n",
       "      <td>118.000</td>\n",
       "      <td>9.167</td>\n",
       "      <td>9.783</td>\n",
       "      <td>0.000</td>\n",
       "      <td>8.000</td>\n",
       "      <td>0.058</td>\n",
       "      <td>0.612</td>\n",
       "      <td>0.000</td>\n",
       "      <td>0.000</td>\n",
       "      <td>0.000</td>\n",
       "      <td>0.612</td>\n",
       "      <td>2,398.000</td>\n",
       "      <td>14.043</td>\n",
       "      <td>1.000</td>\n",
       "    </tr>\n",
       "    <tr>\n",
       "      <th>max</th>\n",
       "      <td>198.547</td>\n",
       "      <td>2.000</td>\n",
       "      <td>2.000</td>\n",
       "      <td>152.000</td>\n",
       "      <td>147.000</td>\n",
       "      <td>28.461</td>\n",
       "      <td>24.395</td>\n",
       "      <td>2.000</td>\n",
       "      <td>12.000</td>\n",
       "      <td>0.066</td>\n",
       "      <td>0.699</td>\n",
       "      <td>3,800.000</td>\n",
       "      <td>5,903.000</td>\n",
       "      <td>14,880.000</td>\n",
       "      <td>0.699</td>\n",
       "      <td>3,197.000</td>\n",
       "      <td>18.722</td>\n",
       "      <td>1.000</td>\n",
       "    </tr>\n",
       "  </tbody>\n",
       "</table>\n",
       "</div>"
      ],
      "text/plain": [
       "        Elapsed         A         B      TotA      TotB     RateA     RateB  \\\n",
       "count 6,394.000 6,394.000 6,394.000 6,394.000 6,394.000 6,394.000 6,394.000   \n",
       "mean     99.284     0.051     0.046    79.171    81.587     8.593     9.100   \n",
       "std      57.303     0.227     0.218    42.487    42.749     1.183     1.142   \n",
       "min       0.047     0.000     0.000     0.000     0.000     0.000     0.000   \n",
       "25%      49.684     0.000     0.000    42.000    48.000     8.107     8.396   \n",
       "50%      99.298     0.000     0.000    84.000    83.000     8.675     8.954   \n",
       "75%     148.883     0.000     0.000   113.000   118.000     9.167     9.783   \n",
       "max     198.547     2.000     2.000   152.000   147.000    28.461    24.395   \n",
       "\n",
       "            Cnc    TotCnc  ElapsedCncRate  SampleCncRate  TimeDifference  \\\n",
       "count 6,394.000 6,394.000       6,394.000      6,394.000       6,394.000   \n",
       "mean      0.002     4.790           0.036          0.386           1.221   \n",
       "std       0.050     3.999           0.023          0.240          91.636   \n",
       "min       0.000     0.000           0.000          0.000      -4,395.000   \n",
       "25%       0.000     1.000           0.020          0.212           0.000   \n",
       "50%       0.000     3.000           0.033          0.353           0.000   \n",
       "75%       0.000     8.000           0.058          0.612           0.000   \n",
       "max       2.000    12.000           0.066          0.699       3,800.000   \n",
       "\n",
       "       APulseHeight  BPulseHeight  SampleCncRate_  RateCount  SampleSize  \\\n",
       "count     6,394.000     6,394.000       6,394.000  6,394.000   6,394.000   \n",
       "mean          5.780         9.469           0.386  1,599.000       9.364   \n",
       "std         152.624       295.767           0.240    922.967       5.405   \n",
       "min           0.000         0.000           0.000      1.000       0.006   \n",
       "25%           0.000         0.000           0.212    800.000       4.685   \n",
       "50%           0.000         0.000           0.353  1,599.000       9.364   \n",
       "75%           0.000         0.000           0.612  2,398.000      14.043   \n",
       "max       5,903.000    14,880.000           0.699  3,197.000      18.722   \n",
       "\n",
       "            Chn  \n",
       "count 6,394.000  \n",
       "mean      0.500  \n",
       "std       0.500  \n",
       "min       0.000  \n",
       "25%       0.000  \n",
       "50%       0.500  \n",
       "75%       1.000  \n",
       "max       1.000  "
      ]
     },
     "execution_count": 4,
     "metadata": {},
     "output_type": "execute_result"
    }
   ],
   "source": [
    "st.read_stats_dataframe(\"../experiments\\default_2022_2_10_21_34\\statistics.csv\").describe()"
   ]
  },
  {
   "cell_type": "code",
   "execution_count": 5,
   "metadata": {},
   "outputs": [
    {
     "name": "stdout",
     "output_type": "stream",
     "text": [
      "<class 'pandas.core.frame.DataFrame'>\n",
      "RangeIndex: 6394 entries, 0 to 6393\n",
      "Data columns (total 19 columns):\n",
      " #   Column          Non-Null Count  Dtype         \n",
      "---  ------          --------------  -----         \n",
      " 0   Time            6394 non-null   datetime64[ns]\n",
      " 1   Elapsed         6394 non-null   float64       \n",
      " 2   A               6394 non-null   int64         \n",
      " 3   B               6394 non-null   int64         \n",
      " 4   TotA            6394 non-null   int64         \n",
      " 5   TotB            6394 non-null   int64         \n",
      " 6   RateA           6394 non-null   float64       \n",
      " 7   RateB           6394 non-null   float64       \n",
      " 8   Cnc             6394 non-null   int64         \n",
      " 9   TotCnc          6394 non-null   int64         \n",
      " 10  ElapsedCncRate  6394 non-null   float64       \n",
      " 11  SampleCncRate   6394 non-null   float64       \n",
      " 12  TimeDifference  6394 non-null   int64         \n",
      " 13  APulseHeight    6394 non-null   int64         \n",
      " 14  BPulseHeight    6394 non-null   int64         \n",
      " 15  SampleCncRate_  6394 non-null   float64       \n",
      " 16  RateCount       6394 non-null   int64         \n",
      " 17  SampleSize      6394 non-null   float64       \n",
      " 18  Chn             6394 non-null   int64         \n",
      "dtypes: datetime64[ns](1), float64(7), int64(11)\n",
      "memory usage: 949.2 KB\n"
     ]
    }
   ],
   "source": [
    "st.info()"
   ]
  },
  {
   "cell_type": "code",
   "execution_count": 6,
   "metadata": {},
   "outputs": [
    {
     "data": {
      "text/plain": [
       "['Max pulse height A: 5903.0',\n",
       " 'Max pulse height B: 14880.0',\n",
       " 'Min pulse height A: 0.0',\n",
       " 'Min pulse height B: 0.0',\n",
       " 'Std pulse height A: 152.62375557687935',\n",
       " 'Std pulse height B: 295.7668386852374',\n",
       " 'Mean pulse height A: 5.780106349702846',\n",
       " 'Mean pulse height B: 9.468564279011574']"
      ]
     },
     "execution_count": 6,
     "metadata": {},
     "output_type": "execute_result"
    }
   ],
   "source": [
    "[\n",
    "    \"Max pulse height A: %s\" % st.max_pulse_height_a(), \n",
    "    \"Max pulse height B: %s\" % st.max_pulse_height_b(),\n",
    "    \"Min pulse height A: %s\" % st.min_pulse_height_a(), \n",
    "    \"Min pulse height B: %s\" % st.min_pulse_height_b(), \n",
    "    \"Std pulse height A: %s\" % st.std_pulse_height_a(), \n",
    "    \"Std pulse height B: %s\" % st.std_pulse_height_b(), \n",
    "    \"Mean pulse height A: %s\" % st.mean_pulse_height_a(),\n",
    "    \"Mean pulse height B: %s\" % st.mean_pulse_height_b()\n",
    "]"
   ]
  },
  {
   "cell_type": "code",
   "execution_count": 7,
   "metadata": {},
   "outputs": [
    {
     "data": {
      "text/plain": [
       "['rows_count 6394',\n",
       " 'rate_a 28.460837887067395',\n",
       " 'rate_b 24.395003903200628',\n",
       " 'total_count_a 152',\n",
       " 'total_count_b 147',\n",
       " 'total_coincidences 12',\n",
       " 'single_coincidences 8',\n",
       " 'time_elapsed 198.5469186306',\n",
       " 'start_time 2022-02-10 19:34:10.047165155',\n",
       " 'end_time 2022-02-10 19:37:28.547173262',\n",
       " 'coincidence_elapsed_rate 0.06591563561032805',\n",
       " 'coincidence_sample_rate 0.6989018853577259']"
      ]
     },
     "execution_count": 7,
     "metadata": {},
     "output_type": "execute_result"
    }
   ],
   "source": [
    "[\n",
    "    \"rows_count %s\" % st.rows_count(),\n",
    "    \n",
    "    \"rate_a %s\" % st.rate_a(),\n",
    "    \n",
    "    \"rate_b %s\" % st.rate_b(),\n",
    "    \n",
    "    \"total_count_a %s\" % st.total_count_a(),\n",
    "    \n",
    "    \"total_count_b %s\" % st.total_count_b(),\n",
    "    \n",
    "    \"total_coincidences %s\" % st.total_coincidences(),\n",
    "    \n",
    "    \"single_coincidences %s\" % st.single_coincidences(),\n",
    "    \n",
    "    \"time_elapsed %s\" % st.time_elapsed(),\n",
    "    \n",
    "    \"start_time %s\" % st.start_time(),\n",
    "    \n",
    "    \"end_time %s\" % st.end_time(),\n",
    "    \n",
    "    \"coincidence_elapsed_rate %s\" % st.coincidence_elapsed_rate(),\n",
    "    \n",
    "    \"coincidence_sample_rate %s\" % st.coincidence_sample_rate()\n",
    "]"
   ]
  },
  {
   "cell_type": "code",
   "execution_count": 8,
   "metadata": {},
   "outputs": [
    {
     "data": {
      "text/plain": [
       "[array([3593, 2566, 3080, 3593, 4363, 4620, 2310, 5903], dtype=int64),\n",
       " array([ 3591,  5900,  4617,  2052,  9492,   256, 12058,  3848],\n",
       "       dtype=int64),\n",
       " array([ 1052,     0,  3800, -4395,  2659,     0,  2159,  -473],\n",
       "       dtype=int64)]"
      ]
     },
     "execution_count": 8,
     "metadata": {},
     "output_type": "execute_result"
    }
   ],
   "source": [
    "[\n",
    "    st.pulse_heights_a(),\n",
    "    st.pulse_heights_b(),\n",
    "    st.time_differences()\n",
    "]"
   ]
  },
  {
   "cell_type": "code",
   "execution_count": 9,
   "metadata": {
    "scrolled": true
   },
   "outputs": [
    {
     "data": {
      "image/png": "[encoded data removed]",
      "text/plain": [
       "<Figure size 864x288 with 1 Axes>"
      ]
     },
     "metadata": {},
     "output_type": "display_data"
    }
   ],
   "source": [
    "st.plot_channel_counts()"
   ]
  },
  {
   "cell_type": "code",
   "execution_count": 10,
   "metadata": {},
   "outputs": [
    {
     "data": {
      "image/png": "[encoded data removed]",
      "text/plain": [
       "<Figure size 864x432 with 2 Axes>"
      ]
     },
     "metadata": {},
     "output_type": "display_data"
    }
   ],
   "source": [
    "st.plot_channel_totals_and_rates()"
   ]
  },
  {
   "cell_type": "code",
   "execution_count": 11,
   "metadata": {},
   "outputs": [
    {
     "data": {
      "image/png": "[encoded data removed]",
      "text/plain": [
       "<Figure size 1296x288 with 3 Axes>"
      ]
     },
     "metadata": {},
     "output_type": "display_data"
    }
   ],
   "source": [
    "st.plot_coincidences_and_sample_size()"
   ]
  },
  {
   "cell_type": "code",
   "execution_count": 12,
   "metadata": {},
   "outputs": [
    {
     "data": {
      "image/png": "[encoded data removed]",
      "text/plain": [
       "<Figure size 864x288 with 3 Axes>"
      ]
     },
     "metadata": {},
     "output_type": "display_data"
    }
   ],
   "source": [
    "st.plot_time_histogram_and_scatter()"
   ]
  },
  {
   "cell_type": "code",
   "execution_count": 13,
   "metadata": {},
   "outputs": [
    {
     "data": {
      "image/png": "[encoded data removed]",
      "text/plain": [
       "<Figure size 864x288 with 2 Axes>"
      ]
     },
     "metadata": {},
     "output_type": "display_data"
    }
   ],
   "source": [
    "st.plot_spectra()"
   ]
  },
  {
   "cell_type": "code",
   "execution_count": null,
   "metadata": {
    "collapsed": true
   },
   "outputs": [],
   "source": []
  }
 ],
 "metadata": {
  "kernelspec": {
   "display_name": "Python 3",
   "language": "python",
   "name": "python3"
  },
  "language_info": {
   "codemirror_mode": {
    "name": "ipython",
    "version": 3
   },
   "file_extension": ".py",
   "mimetype": "text/x-python",
   "name": "python",
   "nbconvert_exporter": "python",
   "pygments_lexer": "ipython3",
   "version": "3.6.1"
  }
 },
 "nbformat": 4,
 "nbformat_minor": 2
}
